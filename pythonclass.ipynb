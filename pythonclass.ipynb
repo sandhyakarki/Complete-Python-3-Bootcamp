{
 "cells": [
  {
   "cell_type": "code",
   "execution_count": 8,
   "metadata": {},
   "outputs": [
    {
     "name": "stdout",
     "output_type": "stream",
     "text": [
      "Do you have an account y/n:y\n",
      "Enter usernamesandy\n",
      "Enter password: ········\n",
      "welcomesandy\n"
     ]
    }
   ],
   "source": [
    "import os\n",
    "import getpass\n",
    "\n",
    "if not os.path.exists('record.txt'):\n",
    "    file = open('record.txt','w')\n",
    "    file.close()\n",
    "\n",
    "def register():\n",
    "    username = input('Enter username:')\n",
    "    if username in open('record.txt','r').read():\n",
    "        print('username already exists')\n",
    "        message = input('Do you want to continue y/n: ')\n",
    "        if message == 'y':\n",
    "            register()\n",
    "            exit()\n",
    "        else:\n",
    "            exit() #it exits the loop\n",
    "    password = getpass.getpass('Enter a password:')\n",
    "    confirm_password = getpass.getpass('Enter confirm password')\n",
    "    if password != confirm_password:\n",
    "        print('your password does not match')\n",
    "        exit()\n",
    "    \n",
    "    try :\n",
    "        handle = open('record.txt','a')\n",
    "        handle.write(username)\n",
    "        handle.write(\" \")\n",
    "        handle.write(password)\n",
    "        handle.write('\\n')\n",
    "    except Exception as error:\n",
    "        print(error)\n",
    "    finally:\n",
    "        handle.close()\n",
    "    \n",
    "def login():\n",
    "    username = input('Enter username')\n",
    "    password = getpass.getpass(\"Enter password: \")\n",
    "    get_users_data = open('record.txt','r').readlines()\n",
    "    users = []\n",
    "    for user in get_users_data:\n",
    "        users.append(user.split())\n",
    "\n",
    "    total_users = len(users)\n",
    "    increment = 0\n",
    "    login_success = 0\n",
    "    while increment < total_users:\n",
    "        get_username = users[increment][0]\n",
    "        get_password = users[increment][1]\n",
    "        if username == get_username and password == get_password:\n",
    "            login_success = 1\n",
    "        \n",
    "        increment += 1\n",
    "\n",
    "    if login_success == 1:\n",
    "        print(\"welcome\" + username)\n",
    "    else:\n",
    "        print(\"username & password did not match\")\n",
    "\n",
    "message = input('Do you have an account y/n:')\n",
    "\n",
    "if message  == 'y':\n",
    "    login()\n",
    "else:\n",
    "    register()\n"
   ]
  },
  {
   "cell_type": "code",
   "execution_count": null,
   "metadata": {},
   "outputs": [],
   "source": []
  },
  {
   "cell_type": "code",
   "execution_count": null,
   "metadata": {},
   "outputs": [],
   "source": []
  }
 ],
 "metadata": {
  "kernelspec": {
   "display_name": "Python 3",
   "language": "python",
   "name": "python3"
  },
  "language_info": {
   "codemirror_mode": {
    "name": "ipython",
    "version": 3
   },
   "file_extension": ".py",
   "mimetype": "text/x-python",
   "name": "python",
   "nbconvert_exporter": "python",
   "pygments_lexer": "ipython3",
   "version": "3.7.1"
  }
 },
 "nbformat": 4,
 "nbformat_minor": 2
}
